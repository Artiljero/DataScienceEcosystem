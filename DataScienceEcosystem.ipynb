{
 "cells": [
  {
   "cell_type": "markdown",
   "id": "0f95ae38-64fe-41cf-99cd-fdefc636803f",
   "metadata": {},
   "source": [
    "# Data Science Tools and Ecosystem"
   ]
  },
  {
   "cell_type": "markdown",
   "id": "e7da2161-f795-4906-8110-aa8ca5b9c7a4",
   "metadata": {},
   "source": [
    "## Introduction\n",
    "In this notebook, the Data Science Tools and Ecosystem are summarized"
   ]
  },
  {
   "cell_type": "markdown",
   "id": "0685c9c2-4fb6-4010-bd86-5a73dea7ce34",
   "metadata": {},
   "source": [
    "## Objectives:\n",
    "- List popular languages that Data Science.\n",
    "- Introduce Commonly used libraries in Data Science.\n",
    "- Demonstrate conversion of minutes to hours in Python."
   ]
  },
  {
   "cell_type": "markdown",
   "id": "f2f64f7e-d15d-40bf-a748-17f2fc8059ef",
   "metadata": {},
   "source": [
    "## Overview\n",
    "Some of the popular languages that Data Scientist use are:\n",
    "1. Python\n",
    "2. R\n",
    "3. SQL\n"
   ]
  },
  {
   "cell_type": "markdown",
   "id": "9490ca48-bcc6-42f9-aa7c-8bb184b7f67d",
   "metadata": {},
   "source": [
    "## Overview\n",
    "Some of the commonly used libraries used by Data Scientists include:\n",
    "1. Pandas\n",
    "2. NumPy\n",
    "3. Matplotlib\n",
    "\n"
   ]
  },
  {
   "cell_type": "markdown",
   "id": "de4b56ab-bdd1-47b9-a2b1-d3f565f66cc2",
   "metadata": {},
   "source": [
    "| Data Science Tools|\n",
    "| ------------------|\n",
    "| Jupyter Notebook  |\n",
    "| RS Studio         |\n",
    "| VS Code           |"
   ]
  },
  {
   "cell_type": "markdown",
   "id": "aa5fcbeb-2456-4a71-aa2f-bf46e3258fdc",
   "metadata": {},
   "source": [
    "### Examples of Arithmetic Expressions in Python\n",
    "Below are a few examples of evaluating arithmetic expressions in Python"
   ]
  },
  {
   "cell_type": "code",
   "execution_count": 1,
   "id": "cf7aa624-63ad-48c7-a769-cf281295e665",
   "metadata": {
    "tags": []
   },
   "outputs": [
    {
     "name": "stdout",
     "output_type": "stream",
     "text": [
      "17\n"
     ]
    }
   ],
   "source": [
    "# This a simple arithmetic expression  to mutiply then add integers\n",
    "result = (3*4)+5\n",
    "print(result)"
   ]
  },
  {
   "cell_type": "code",
   "execution_count": 2,
   "id": "98781cd5-619b-4ef2-ad1a-73a5e371703c",
   "metadata": {
    "tags": []
   },
   "outputs": [
    {
     "name": "stdout",
     "output_type": "stream",
     "text": [
      "3.3333333333333335\n"
     ]
    }
   ],
   "source": [
    "# This will convert 200 minutes to hours by diving by 60\n",
    "minutes = 200\n",
    "hours = minutes/60\n",
    "print(hours)\n"
   ]
  },
  {
   "cell_type": "markdown",
   "id": "2de7978f-0dde-45c7-a73b-e076405b8538",
   "metadata": {},
   "source": [
    "## Author\n",
    "Milan Medan"
   ]
  },
  {
   "cell_type": "code",
   "execution_count": null,
   "id": "43a8a46d-3e3c-42dd-86a1-a401f3b07cd9",
   "metadata": {},
   "outputs": [],
   "source": []
  }
 ],
 "metadata": {
  "kernelspec": {
   "display_name": "Python",
   "language": "python",
   "name": "conda-env-python-py"
  },
  "language_info": {
   "codemirror_mode": {
    "name": "ipython",
    "version": 3
   },
   "file_extension": ".py",
   "mimetype": "text/x-python",
   "name": "python",
   "nbconvert_exporter": "python",
   "pygments_lexer": "ipython3",
   "version": "3.7.12"
  }
 },
 "nbformat": 4,
 "nbformat_minor": 5
}
